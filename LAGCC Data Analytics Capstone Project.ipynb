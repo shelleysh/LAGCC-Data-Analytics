{
 "cells": [
  {
   "attachments": {},
   "cell_type": "markdown",
   "metadata": {},
   "source": [
    "# Dreams of Health: Unlocking the Power of Sleep for Better Lives\n",
    "    LAGCC Data Analytics \n",
    "    Shelley Shen \n",
    "\n",
    "## Table of Contents\n",
    "1. Introduction\n",
    "2. Data import\n",
    "3. Data wrangling\n",
    "4. Data exploration, data visualization, and statistical analysis\n",
    "5. Conclusion "
   ]
  },
  {
   "cell_type": "markdown",
   "metadata": {},
   "source": [
    "## 1. Introduction\n",
    "\n",
    "This project explores the Sleep Health and Lifestyle dataset from Kaggle to understand how various factor may impact sleep health. The dataset contains 374 rows and 13 columns with variables relating to sleep, health conditions, and daily living. \n",
    "\n",
    "**Research Questions:**\n",
    "- What is the relationship between sleep duration and overall health outcomes? \n",
    "- How does sleep quality affect mental health indicators such as depression and anxiety? \n",
    "- Can lifestyle factors, such as exercise or stress level, impact sleep duration? \n",
    "- Are there any associations between sleep patterns and BMI? \n",
    "- Can sleep data be used to identify individuals at risk for sleep disorders like insomnia or sleep apnea? \n",
    "\n",
    "**Key features of the dataset:**\n",
    "- Person ID: identifier for each observation\n",
    "- Gender: gender (male/female)\n",
    "- Age: age in years\n",
    "- Occupation: occupation or profession\n",
    "- Sleep duration (hours): number of hours slept per day\n",
    "- Quality of sleep (scale 1-10): subjective rating of quality of sleep\n",
    "- Physical activity level (minutes/day):number of minutes engaged in physical activity per day\n",
    "- Stress level (scale 1-10): subjective rating of stress level experienced\n",
    "- BMI category: BMI category (underweight, normal, overweight)\n",
    "- Blood pressure: blood pressurement measurement (systolic/diastolic)\n",
    "- Heart rate (bpm): resting heart rate\n",
    "- Daily steps: number of steps taken per day\n",
    "- Sleep disorder: presence or absence of sleep disorder (none, insomnia, sleep apnea) \n",
    "\n",
    "The data file's origin and method of data collection of the data file are unknown, thus limiting the credibility of this analysis. \n"
   ]
  },
  {
   "cell_type": "markdown",
   "metadata": {},
   "source": [
    "## 2. Data import\n",
    "The relevant libraries are loaded, dataset imported, and data previewed."
   ]
  },
  {
   "cell_type": "code",
   "execution_count": null,
   "metadata": {},
   "outputs": [],
   "source": [
    "# load libraries\n",
    "\n",
    "import pandas as pd\n",
    "import numpy as np\n",
    "import matplotlib.pyplot as plt\n",
    "import seaborn as sns\n",
    "import janitor\n",
    "%matplotlib inline"
   ]
  },
  {
   "cell_type": "code",
   "execution_count": 62,
   "metadata": {},
   "outputs": [],
   "source": [
    "raw_df = pd.read_csv('https://raw.githubusercontent.com/shelleysh/LAGCC-Data-Analytics/main/sleep_health_and_lifestyle_dataset.csv').clean_names()"
   ]
  },
  {
   "cell_type": "code",
   "execution_count": 28,
   "metadata": {},
   "outputs": [
    {
     "data": {
      "text/plain": [
       "Index(['person_id', 'gender', 'age', 'occupation', 'sleep_duration',\n",
       "       'quality_of_sleep', 'physical_activity_level', 'stress_level',\n",
       "       'bmi_category', 'blood_pressure', 'heart_rate', 'daily_steps',\n",
       "       'sleep_disorder'],\n",
       "      dtype='object')"
      ]
     },
     "execution_count": 28,
     "metadata": {},
     "output_type": "execute_result"
    }
   ],
   "source": [
    "# review variables in dataset \n",
    "raw_df.columns"
   ]
  },
  {
   "cell_type": "code",
   "execution_count": 31,
   "metadata": {},
   "outputs": [
    {
     "data": {
      "text/html": [
       "<div>\n",
       "<style scoped>\n",
       "    .dataframe tbody tr th:only-of-type {\n",
       "        vertical-align: middle;\n",
       "    }\n",
       "\n",
       "    .dataframe tbody tr th {\n",
       "        vertical-align: top;\n",
       "    }\n",
       "\n",
       "    .dataframe thead th {\n",
       "        text-align: right;\n",
       "    }\n",
       "</style>\n",
       "<table border=\"1\" class=\"dataframe\">\n",
       "  <thead>\n",
       "    <tr style=\"text-align: right;\">\n",
       "      <th></th>\n",
       "      <th>person_id</th>\n",
       "      <th>gender</th>\n",
       "      <th>age</th>\n",
       "      <th>occupation</th>\n",
       "      <th>sleep_duration</th>\n",
       "      <th>quality_of_sleep</th>\n",
       "      <th>physical_activity_level</th>\n",
       "      <th>stress_level</th>\n",
       "      <th>bmi_category</th>\n",
       "      <th>blood_pressure</th>\n",
       "      <th>heart_rate</th>\n",
       "      <th>daily_steps</th>\n",
       "      <th>sleep_disorder</th>\n",
       "    </tr>\n",
       "  </thead>\n",
       "  <tbody>\n",
       "    <tr>\n",
       "      <th>0</th>\n",
       "      <td>1</td>\n",
       "      <td>Male</td>\n",
       "      <td>27</td>\n",
       "      <td>Software Engineer</td>\n",
       "      <td>6.1</td>\n",
       "      <td>6</td>\n",
       "      <td>42</td>\n",
       "      <td>6</td>\n",
       "      <td>Overweight</td>\n",
       "      <td>126/83</td>\n",
       "      <td>77</td>\n",
       "      <td>4200</td>\n",
       "      <td>None</td>\n",
       "    </tr>\n",
       "    <tr>\n",
       "      <th>1</th>\n",
       "      <td>2</td>\n",
       "      <td>Male</td>\n",
       "      <td>28</td>\n",
       "      <td>Doctor</td>\n",
       "      <td>6.2</td>\n",
       "      <td>6</td>\n",
       "      <td>60</td>\n",
       "      <td>8</td>\n",
       "      <td>Normal</td>\n",
       "      <td>125/80</td>\n",
       "      <td>75</td>\n",
       "      <td>10000</td>\n",
       "      <td>None</td>\n",
       "    </tr>\n",
       "    <tr>\n",
       "      <th>2</th>\n",
       "      <td>3</td>\n",
       "      <td>Male</td>\n",
       "      <td>28</td>\n",
       "      <td>Doctor</td>\n",
       "      <td>6.2</td>\n",
       "      <td>6</td>\n",
       "      <td>60</td>\n",
       "      <td>8</td>\n",
       "      <td>Normal</td>\n",
       "      <td>125/80</td>\n",
       "      <td>75</td>\n",
       "      <td>10000</td>\n",
       "      <td>None</td>\n",
       "    </tr>\n",
       "    <tr>\n",
       "      <th>3</th>\n",
       "      <td>4</td>\n",
       "      <td>Male</td>\n",
       "      <td>28</td>\n",
       "      <td>Sales Representative</td>\n",
       "      <td>5.9</td>\n",
       "      <td>4</td>\n",
       "      <td>30</td>\n",
       "      <td>8</td>\n",
       "      <td>Obese</td>\n",
       "      <td>140/90</td>\n",
       "      <td>85</td>\n",
       "      <td>3000</td>\n",
       "      <td>Sleep Apnea</td>\n",
       "    </tr>\n",
       "    <tr>\n",
       "      <th>4</th>\n",
       "      <td>5</td>\n",
       "      <td>Male</td>\n",
       "      <td>28</td>\n",
       "      <td>Sales Representative</td>\n",
       "      <td>5.9</td>\n",
       "      <td>4</td>\n",
       "      <td>30</td>\n",
       "      <td>8</td>\n",
       "      <td>Obese</td>\n",
       "      <td>140/90</td>\n",
       "      <td>85</td>\n",
       "      <td>3000</td>\n",
       "      <td>Sleep Apnea</td>\n",
       "    </tr>\n",
       "  </tbody>\n",
       "</table>\n",
       "</div>"
      ],
      "text/plain": [
       "   person_id gender  age            occupation  sleep_duration  \\\n",
       "0          1   Male   27     Software Engineer             6.1   \n",
       "1          2   Male   28                Doctor             6.2   \n",
       "2          3   Male   28                Doctor             6.2   \n",
       "3          4   Male   28  Sales Representative             5.9   \n",
       "4          5   Male   28  Sales Representative             5.9   \n",
       "\n",
       "   quality_of_sleep  physical_activity_level  stress_level bmi_category  \\\n",
       "0                 6                       42             6   Overweight   \n",
       "1                 6                       60             8       Normal   \n",
       "2                 6                       60             8       Normal   \n",
       "3                 4                       30             8        Obese   \n",
       "4                 4                       30             8        Obese   \n",
       "\n",
       "  blood_pressure  heart_rate  daily_steps sleep_disorder  \n",
       "0         126/83          77         4200           None  \n",
       "1         125/80          75        10000           None  \n",
       "2         125/80          75        10000           None  \n",
       "3         140/90          85         3000    Sleep Apnea  \n",
       "4         140/90          85         3000    Sleep Apnea  "
      ]
     },
     "execution_count": 31,
     "metadata": {},
     "output_type": "execute_result"
    }
   ],
   "source": [
    "# preview first few rows of dataset\n",
    "raw_df.head()"
   ]
  },
  {
   "cell_type": "markdown",
   "metadata": {},
   "source": [
    "## 3. Data wrangling\n",
    "Clean the data to prepare for analysis"
   ]
  },
  {
   "cell_type": "code",
   "execution_count": 63,
   "metadata": {},
   "outputs": [],
   "source": [
    "#rename columns\n",
    "df = raw_df.rename(columns = {'person_id': 'id', 'quality_of_sleep': 'sleep_quality', 'physical_activity_level': 'physical_activity'})  "
   ]
  },
  {
   "cell_type": "code",
   "execution_count": 64,
   "metadata": {},
   "outputs": [
    {
     "data": {
      "text/html": [
       "<div>\n",
       "<style scoped>\n",
       "    .dataframe tbody tr th:only-of-type {\n",
       "        vertical-align: middle;\n",
       "    }\n",
       "\n",
       "    .dataframe tbody tr th {\n",
       "        vertical-align: top;\n",
       "    }\n",
       "\n",
       "    .dataframe thead th {\n",
       "        text-align: right;\n",
       "    }\n",
       "</style>\n",
       "<table border=\"1\" class=\"dataframe\">\n",
       "  <thead>\n",
       "    <tr style=\"text-align: right;\">\n",
       "      <th></th>\n",
       "      <th>id</th>\n",
       "      <th>gender</th>\n",
       "      <th>age</th>\n",
       "      <th>occupation</th>\n",
       "      <th>sleep_duration</th>\n",
       "      <th>sleep_quality</th>\n",
       "      <th>physical_activity</th>\n",
       "      <th>stress_level</th>\n",
       "      <th>bmi_category</th>\n",
       "      <th>blood_pressure</th>\n",
       "      <th>systolic_bp</th>\n",
       "      <th>diastolic_bp</th>\n",
       "      <th>heart_rate</th>\n",
       "      <th>daily_steps</th>\n",
       "      <th>sleep_disorder</th>\n",
       "    </tr>\n",
       "  </thead>\n",
       "  <tbody>\n",
       "    <tr>\n",
       "      <th>0</th>\n",
       "      <td>1</td>\n",
       "      <td>Male</td>\n",
       "      <td>27</td>\n",
       "      <td>Software Engineer</td>\n",
       "      <td>6.1</td>\n",
       "      <td>6</td>\n",
       "      <td>42</td>\n",
       "      <td>6</td>\n",
       "      <td>Overweight</td>\n",
       "      <td>126/83</td>\n",
       "      <td>126</td>\n",
       "      <td>83</td>\n",
       "      <td>77</td>\n",
       "      <td>4200</td>\n",
       "      <td>None</td>\n",
       "    </tr>\n",
       "    <tr>\n",
       "      <th>1</th>\n",
       "      <td>2</td>\n",
       "      <td>Male</td>\n",
       "      <td>28</td>\n",
       "      <td>Doctor</td>\n",
       "      <td>6.2</td>\n",
       "      <td>6</td>\n",
       "      <td>60</td>\n",
       "      <td>8</td>\n",
       "      <td>Normal</td>\n",
       "      <td>125/80</td>\n",
       "      <td>125</td>\n",
       "      <td>80</td>\n",
       "      <td>75</td>\n",
       "      <td>10000</td>\n",
       "      <td>None</td>\n",
       "    </tr>\n",
       "    <tr>\n",
       "      <th>2</th>\n",
       "      <td>3</td>\n",
       "      <td>Male</td>\n",
       "      <td>28</td>\n",
       "      <td>Doctor</td>\n",
       "      <td>6.2</td>\n",
       "      <td>6</td>\n",
       "      <td>60</td>\n",
       "      <td>8</td>\n",
       "      <td>Normal</td>\n",
       "      <td>125/80</td>\n",
       "      <td>125</td>\n",
       "      <td>80</td>\n",
       "      <td>75</td>\n",
       "      <td>10000</td>\n",
       "      <td>None</td>\n",
       "    </tr>\n",
       "    <tr>\n",
       "      <th>3</th>\n",
       "      <td>4</td>\n",
       "      <td>Male</td>\n",
       "      <td>28</td>\n",
       "      <td>Sales Representative</td>\n",
       "      <td>5.9</td>\n",
       "      <td>4</td>\n",
       "      <td>30</td>\n",
       "      <td>8</td>\n",
       "      <td>Obese</td>\n",
       "      <td>140/90</td>\n",
       "      <td>140</td>\n",
       "      <td>90</td>\n",
       "      <td>85</td>\n",
       "      <td>3000</td>\n",
       "      <td>Sleep Apnea</td>\n",
       "    </tr>\n",
       "    <tr>\n",
       "      <th>4</th>\n",
       "      <td>5</td>\n",
       "      <td>Male</td>\n",
       "      <td>28</td>\n",
       "      <td>Sales Representative</td>\n",
       "      <td>5.9</td>\n",
       "      <td>4</td>\n",
       "      <td>30</td>\n",
       "      <td>8</td>\n",
       "      <td>Obese</td>\n",
       "      <td>140/90</td>\n",
       "      <td>140</td>\n",
       "      <td>90</td>\n",
       "      <td>85</td>\n",
       "      <td>3000</td>\n",
       "      <td>Sleep Apnea</td>\n",
       "    </tr>\n",
       "    <tr>\n",
       "      <th>...</th>\n",
       "      <td>...</td>\n",
       "      <td>...</td>\n",
       "      <td>...</td>\n",
       "      <td>...</td>\n",
       "      <td>...</td>\n",
       "      <td>...</td>\n",
       "      <td>...</td>\n",
       "      <td>...</td>\n",
       "      <td>...</td>\n",
       "      <td>...</td>\n",
       "      <td>...</td>\n",
       "      <td>...</td>\n",
       "      <td>...</td>\n",
       "      <td>...</td>\n",
       "      <td>...</td>\n",
       "    </tr>\n",
       "    <tr>\n",
       "      <th>369</th>\n",
       "      <td>370</td>\n",
       "      <td>Female</td>\n",
       "      <td>59</td>\n",
       "      <td>Nurse</td>\n",
       "      <td>8.1</td>\n",
       "      <td>9</td>\n",
       "      <td>75</td>\n",
       "      <td>3</td>\n",
       "      <td>Overweight</td>\n",
       "      <td>140/95</td>\n",
       "      <td>140</td>\n",
       "      <td>95</td>\n",
       "      <td>68</td>\n",
       "      <td>7000</td>\n",
       "      <td>Sleep Apnea</td>\n",
       "    </tr>\n",
       "    <tr>\n",
       "      <th>370</th>\n",
       "      <td>371</td>\n",
       "      <td>Female</td>\n",
       "      <td>59</td>\n",
       "      <td>Nurse</td>\n",
       "      <td>8.0</td>\n",
       "      <td>9</td>\n",
       "      <td>75</td>\n",
       "      <td>3</td>\n",
       "      <td>Overweight</td>\n",
       "      <td>140/95</td>\n",
       "      <td>140</td>\n",
       "      <td>95</td>\n",
       "      <td>68</td>\n",
       "      <td>7000</td>\n",
       "      <td>Sleep Apnea</td>\n",
       "    </tr>\n",
       "    <tr>\n",
       "      <th>371</th>\n",
       "      <td>372</td>\n",
       "      <td>Female</td>\n",
       "      <td>59</td>\n",
       "      <td>Nurse</td>\n",
       "      <td>8.1</td>\n",
       "      <td>9</td>\n",
       "      <td>75</td>\n",
       "      <td>3</td>\n",
       "      <td>Overweight</td>\n",
       "      <td>140/95</td>\n",
       "      <td>140</td>\n",
       "      <td>95</td>\n",
       "      <td>68</td>\n",
       "      <td>7000</td>\n",
       "      <td>Sleep Apnea</td>\n",
       "    </tr>\n",
       "    <tr>\n",
       "      <th>372</th>\n",
       "      <td>373</td>\n",
       "      <td>Female</td>\n",
       "      <td>59</td>\n",
       "      <td>Nurse</td>\n",
       "      <td>8.1</td>\n",
       "      <td>9</td>\n",
       "      <td>75</td>\n",
       "      <td>3</td>\n",
       "      <td>Overweight</td>\n",
       "      <td>140/95</td>\n",
       "      <td>140</td>\n",
       "      <td>95</td>\n",
       "      <td>68</td>\n",
       "      <td>7000</td>\n",
       "      <td>Sleep Apnea</td>\n",
       "    </tr>\n",
       "    <tr>\n",
       "      <th>373</th>\n",
       "      <td>374</td>\n",
       "      <td>Female</td>\n",
       "      <td>59</td>\n",
       "      <td>Nurse</td>\n",
       "      <td>8.1</td>\n",
       "      <td>9</td>\n",
       "      <td>75</td>\n",
       "      <td>3</td>\n",
       "      <td>Overweight</td>\n",
       "      <td>140/95</td>\n",
       "      <td>140</td>\n",
       "      <td>95</td>\n",
       "      <td>68</td>\n",
       "      <td>7000</td>\n",
       "      <td>Sleep Apnea</td>\n",
       "    </tr>\n",
       "  </tbody>\n",
       "</table>\n",
       "<p>374 rows × 15 columns</p>\n",
       "</div>"
      ],
      "text/plain": [
       "      id  gender  age            occupation  sleep_duration  sleep_quality  \\\n",
       "0      1    Male   27     Software Engineer             6.1              6   \n",
       "1      2    Male   28                Doctor             6.2              6   \n",
       "2      3    Male   28                Doctor             6.2              6   \n",
       "3      4    Male   28  Sales Representative             5.9              4   \n",
       "4      5    Male   28  Sales Representative             5.9              4   \n",
       "..   ...     ...  ...                   ...             ...            ...   \n",
       "369  370  Female   59                 Nurse             8.1              9   \n",
       "370  371  Female   59                 Nurse             8.0              9   \n",
       "371  372  Female   59                 Nurse             8.1              9   \n",
       "372  373  Female   59                 Nurse             8.1              9   \n",
       "373  374  Female   59                 Nurse             8.1              9   \n",
       "\n",
       "     physical_activity  stress_level bmi_category blood_pressure  systolic_bp  \\\n",
       "0                   42             6   Overweight         126/83          126   \n",
       "1                   60             8       Normal         125/80          125   \n",
       "2                   60             8       Normal         125/80          125   \n",
       "3                   30             8        Obese         140/90          140   \n",
       "4                   30             8        Obese         140/90          140   \n",
       "..                 ...           ...          ...            ...          ...   \n",
       "369                 75             3   Overweight         140/95          140   \n",
       "370                 75             3   Overweight         140/95          140   \n",
       "371                 75             3   Overweight         140/95          140   \n",
       "372                 75             3   Overweight         140/95          140   \n",
       "373                 75             3   Overweight         140/95          140   \n",
       "\n",
       "     diastolic_bp  heart_rate  daily_steps sleep_disorder  \n",
       "0              83          77         4200           None  \n",
       "1              80          75        10000           None  \n",
       "2              80          75        10000           None  \n",
       "3              90          85         3000    Sleep Apnea  \n",
       "4              90          85         3000    Sleep Apnea  \n",
       "..            ...         ...          ...            ...  \n",
       "369            95          68         7000    Sleep Apnea  \n",
       "370            95          68         7000    Sleep Apnea  \n",
       "371            95          68         7000    Sleep Apnea  \n",
       "372            95          68         7000    Sleep Apnea  \n",
       "373            95          68         7000    Sleep Apnea  \n",
       "\n",
       "[374 rows x 15 columns]"
      ]
     },
     "execution_count": 64,
     "metadata": {},
     "output_type": "execute_result"
    }
   ],
   "source": [
    "# separate blood pressure into systolic and diastolic blood pressure\n",
    "def bloodpressure(x):\n",
    "    sys, dia = map(int,x.split('/'))\n",
    "    return [sys, dia]\n",
    "bp = np.array(list(raw_df['blood_pressure'].apply(lambda x: bloodpressure(x))))\n",
    "df.insert(10, 'systolic_bp', bp.T[0])\n",
    "df.insert(11, 'diastolic_bp', bp.T[1])\n",
    "\n",
    "df"
   ]
  },
  {
   "cell_type": "code",
   "execution_count": 163,
   "metadata": {},
   "outputs": [
    {
     "data": {
      "text/html": [
       "<div>\n",
       "<style scoped>\n",
       "    .dataframe tbody tr th:only-of-type {\n",
       "        vertical-align: middle;\n",
       "    }\n",
       "\n",
       "    .dataframe tbody tr th {\n",
       "        vertical-align: top;\n",
       "    }\n",
       "\n",
       "    .dataframe thead th {\n",
       "        text-align: right;\n",
       "    }\n",
       "</style>\n",
       "<table border=\"1\" class=\"dataframe\">\n",
       "  <thead>\n",
       "    <tr style=\"text-align: right;\">\n",
       "      <th></th>\n",
       "      <th>id</th>\n",
       "      <th>gender</th>\n",
       "      <th>age</th>\n",
       "      <th>occupation</th>\n",
       "      <th>sleep_duration</th>\n",
       "      <th>sleep_quality</th>\n",
       "      <th>physical_activity</th>\n",
       "      <th>stress_level</th>\n",
       "      <th>bmi_category</th>\n",
       "      <th>blood_pressure</th>\n",
       "      <th>systolic_bp</th>\n",
       "      <th>diastolic_bp</th>\n",
       "      <th>heart_rate</th>\n",
       "      <th>daily_steps</th>\n",
       "      <th>sleep_disorder</th>\n",
       "    </tr>\n",
       "  </thead>\n",
       "  <tbody>\n",
       "    <tr>\n",
       "      <th>0</th>\n",
       "      <td>1</td>\n",
       "      <td>Male</td>\n",
       "      <td>27</td>\n",
       "      <td>Software Engineer</td>\n",
       "      <td>6.1</td>\n",
       "      <td>6</td>\n",
       "      <td>42</td>\n",
       "      <td>6</td>\n",
       "      <td>Overweight</td>\n",
       "      <td>126/83</td>\n",
       "      <td>126</td>\n",
       "      <td>83</td>\n",
       "      <td>77</td>\n",
       "      <td>4200</td>\n",
       "      <td>None</td>\n",
       "    </tr>\n",
       "    <tr>\n",
       "      <th>1</th>\n",
       "      <td>2</td>\n",
       "      <td>Male</td>\n",
       "      <td>28</td>\n",
       "      <td>Doctor</td>\n",
       "      <td>6.2</td>\n",
       "      <td>6</td>\n",
       "      <td>60</td>\n",
       "      <td>8</td>\n",
       "      <td>Normal</td>\n",
       "      <td>125/80</td>\n",
       "      <td>125</td>\n",
       "      <td>80</td>\n",
       "      <td>75</td>\n",
       "      <td>10000</td>\n",
       "      <td>None</td>\n",
       "    </tr>\n",
       "    <tr>\n",
       "      <th>2</th>\n",
       "      <td>3</td>\n",
       "      <td>Male</td>\n",
       "      <td>28</td>\n",
       "      <td>Doctor</td>\n",
       "      <td>6.2</td>\n",
       "      <td>6</td>\n",
       "      <td>60</td>\n",
       "      <td>8</td>\n",
       "      <td>Normal</td>\n",
       "      <td>125/80</td>\n",
       "      <td>125</td>\n",
       "      <td>80</td>\n",
       "      <td>75</td>\n",
       "      <td>10000</td>\n",
       "      <td>None</td>\n",
       "    </tr>\n",
       "    <tr>\n",
       "      <th>3</th>\n",
       "      <td>4</td>\n",
       "      <td>Male</td>\n",
       "      <td>28</td>\n",
       "      <td>Sales Representative</td>\n",
       "      <td>5.9</td>\n",
       "      <td>4</td>\n",
       "      <td>30</td>\n",
       "      <td>8</td>\n",
       "      <td>Obese</td>\n",
       "      <td>140/90</td>\n",
       "      <td>140</td>\n",
       "      <td>90</td>\n",
       "      <td>85</td>\n",
       "      <td>3000</td>\n",
       "      <td>Sleep Apnea</td>\n",
       "    </tr>\n",
       "    <tr>\n",
       "      <th>4</th>\n",
       "      <td>5</td>\n",
       "      <td>Male</td>\n",
       "      <td>28</td>\n",
       "      <td>Sales Representative</td>\n",
       "      <td>5.9</td>\n",
       "      <td>4</td>\n",
       "      <td>30</td>\n",
       "      <td>8</td>\n",
       "      <td>Obese</td>\n",
       "      <td>140/90</td>\n",
       "      <td>140</td>\n",
       "      <td>90</td>\n",
       "      <td>85</td>\n",
       "      <td>3000</td>\n",
       "      <td>Sleep Apnea</td>\n",
       "    </tr>\n",
       "    <tr>\n",
       "      <th>...</th>\n",
       "      <td>...</td>\n",
       "      <td>...</td>\n",
       "      <td>...</td>\n",
       "      <td>...</td>\n",
       "      <td>...</td>\n",
       "      <td>...</td>\n",
       "      <td>...</td>\n",
       "      <td>...</td>\n",
       "      <td>...</td>\n",
       "      <td>...</td>\n",
       "      <td>...</td>\n",
       "      <td>...</td>\n",
       "      <td>...</td>\n",
       "      <td>...</td>\n",
       "      <td>...</td>\n",
       "    </tr>\n",
       "    <tr>\n",
       "      <th>369</th>\n",
       "      <td>370</td>\n",
       "      <td>Female</td>\n",
       "      <td>59</td>\n",
       "      <td>Nurse</td>\n",
       "      <td>8.1</td>\n",
       "      <td>9</td>\n",
       "      <td>75</td>\n",
       "      <td>3</td>\n",
       "      <td>Overweight</td>\n",
       "      <td>140/95</td>\n",
       "      <td>140</td>\n",
       "      <td>95</td>\n",
       "      <td>68</td>\n",
       "      <td>7000</td>\n",
       "      <td>Sleep Apnea</td>\n",
       "    </tr>\n",
       "    <tr>\n",
       "      <th>370</th>\n",
       "      <td>371</td>\n",
       "      <td>Female</td>\n",
       "      <td>59</td>\n",
       "      <td>Nurse</td>\n",
       "      <td>8.0</td>\n",
       "      <td>9</td>\n",
       "      <td>75</td>\n",
       "      <td>3</td>\n",
       "      <td>Overweight</td>\n",
       "      <td>140/95</td>\n",
       "      <td>140</td>\n",
       "      <td>95</td>\n",
       "      <td>68</td>\n",
       "      <td>7000</td>\n",
       "      <td>Sleep Apnea</td>\n",
       "    </tr>\n",
       "    <tr>\n",
       "      <th>371</th>\n",
       "      <td>372</td>\n",
       "      <td>Female</td>\n",
       "      <td>59</td>\n",
       "      <td>Nurse</td>\n",
       "      <td>8.1</td>\n",
       "      <td>9</td>\n",
       "      <td>75</td>\n",
       "      <td>3</td>\n",
       "      <td>Overweight</td>\n",
       "      <td>140/95</td>\n",
       "      <td>140</td>\n",
       "      <td>95</td>\n",
       "      <td>68</td>\n",
       "      <td>7000</td>\n",
       "      <td>Sleep Apnea</td>\n",
       "    </tr>\n",
       "    <tr>\n",
       "      <th>372</th>\n",
       "      <td>373</td>\n",
       "      <td>Female</td>\n",
       "      <td>59</td>\n",
       "      <td>Nurse</td>\n",
       "      <td>8.1</td>\n",
       "      <td>9</td>\n",
       "      <td>75</td>\n",
       "      <td>3</td>\n",
       "      <td>Overweight</td>\n",
       "      <td>140/95</td>\n",
       "      <td>140</td>\n",
       "      <td>95</td>\n",
       "      <td>68</td>\n",
       "      <td>7000</td>\n",
       "      <td>Sleep Apnea</td>\n",
       "    </tr>\n",
       "    <tr>\n",
       "      <th>373</th>\n",
       "      <td>374</td>\n",
       "      <td>Female</td>\n",
       "      <td>59</td>\n",
       "      <td>Nurse</td>\n",
       "      <td>8.1</td>\n",
       "      <td>9</td>\n",
       "      <td>75</td>\n",
       "      <td>3</td>\n",
       "      <td>Overweight</td>\n",
       "      <td>140/95</td>\n",
       "      <td>140</td>\n",
       "      <td>95</td>\n",
       "      <td>68</td>\n",
       "      <td>7000</td>\n",
       "      <td>Sleep Apnea</td>\n",
       "    </tr>\n",
       "  </tbody>\n",
       "</table>\n",
       "<p>374 rows × 15 columns</p>\n",
       "</div>"
      ],
      "text/plain": [
       "      id  gender  age            occupation  sleep_duration  sleep_quality  \\\n",
       "0      1    Male   27     Software Engineer             6.1              6   \n",
       "1      2    Male   28                Doctor             6.2              6   \n",
       "2      3    Male   28                Doctor             6.2              6   \n",
       "3      4    Male   28  Sales Representative             5.9              4   \n",
       "4      5    Male   28  Sales Representative             5.9              4   \n",
       "..   ...     ...  ...                   ...             ...            ...   \n",
       "369  370  Female   59                 Nurse             8.1              9   \n",
       "370  371  Female   59                 Nurse             8.0              9   \n",
       "371  372  Female   59                 Nurse             8.1              9   \n",
       "372  373  Female   59                 Nurse             8.1              9   \n",
       "373  374  Female   59                 Nurse             8.1              9   \n",
       "\n",
       "     physical_activity  stress_level bmi_category blood_pressure  systolic_bp  \\\n",
       "0                   42             6   Overweight         126/83          126   \n",
       "1                   60             8       Normal         125/80          125   \n",
       "2                   60             8       Normal         125/80          125   \n",
       "3                   30             8        Obese         140/90          140   \n",
       "4                   30             8        Obese         140/90          140   \n",
       "..                 ...           ...          ...            ...          ...   \n",
       "369                 75             3   Overweight         140/95          140   \n",
       "370                 75             3   Overweight         140/95          140   \n",
       "371                 75             3   Overweight         140/95          140   \n",
       "372                 75             3   Overweight         140/95          140   \n",
       "373                 75             3   Overweight         140/95          140   \n",
       "\n",
       "     diastolic_bp  heart_rate  daily_steps sleep_disorder  \n",
       "0              83          77         4200           None  \n",
       "1              80          75        10000           None  \n",
       "2              80          75        10000           None  \n",
       "3              90          85         3000    Sleep Apnea  \n",
       "4              90          85         3000    Sleep Apnea  \n",
       "..            ...         ...          ...            ...  \n",
       "369            95          68         7000    Sleep Apnea  \n",
       "370            95          68         7000    Sleep Apnea  \n",
       "371            95          68         7000    Sleep Apnea  \n",
       "372            95          68         7000    Sleep Apnea  \n",
       "373            95          68         7000    Sleep Apnea  \n",
       "\n",
       "[374 rows x 15 columns]"
      ]
     },
     "execution_count": 163,
     "metadata": {},
     "output_type": "execute_result"
    }
   ],
   "source": [
    "# recode BMI category value to aggregate weights that are normal\n",
    "df['bmi_category'] = df['bmi_category'].replace('Normal Weight', 'Normal')"
   ]
  },
  {
   "cell_type": "code",
   "execution_count": 65,
   "metadata": {},
   "outputs": [
    {
     "data": {
      "text/plain": [
       "id                   0\n",
       "gender               0\n",
       "age                  0\n",
       "occupation           0\n",
       "sleep_duration       0\n",
       "sleep_quality        0\n",
       "physical_activity    0\n",
       "stress_level         0\n",
       "bmi_category         0\n",
       "blood_pressure       0\n",
       "systolic_bp          0\n",
       "diastolic_bp         0\n",
       "heart_rate           0\n",
       "daily_steps          0\n",
       "sleep_disorder       0\n",
       "dtype: int64"
      ]
     },
     "execution_count": 65,
     "metadata": {},
     "output_type": "execute_result"
    }
   ],
   "source": [
    "# identify any missing values\n",
    "df.isnull().sum()"
   ]
  },
  {
   "cell_type": "markdown",
   "metadata": {},
   "source": [
    "## 4. Data exploration and visualization\n",
    "Review values of several columns to understand diversity of data values. "
   ]
  },
  {
   "cell_type": "markdown",
   "metadata": {},
   "source": [
    "### 4a. Understanding the data with descriptive statistics\n",
    "Describe the data with counts of the column values and general descriptive statistics"
   ]
  },
  {
   "cell_type": "code",
   "execution_count": 238,
   "metadata": {},
   "outputs": [
    {
     "data": {
      "text/html": [
       "<div>\n",
       "<style scoped>\n",
       "    .dataframe tbody tr th:only-of-type {\n",
       "        vertical-align: middle;\n",
       "    }\n",
       "\n",
       "    .dataframe tbody tr th {\n",
       "        vertical-align: top;\n",
       "    }\n",
       "\n",
       "    .dataframe thead th {\n",
       "        text-align: right;\n",
       "    }\n",
       "</style>\n",
       "<table border=\"1\" class=\"dataframe\">\n",
       "  <thead>\n",
       "    <tr style=\"text-align: right;\">\n",
       "      <th></th>\n",
       "      <th>id</th>\n",
       "      <th>age</th>\n",
       "      <th>sleep_duration</th>\n",
       "      <th>sleep_quality</th>\n",
       "      <th>physical_activity</th>\n",
       "      <th>stress_level</th>\n",
       "      <th>systolic_bp</th>\n",
       "      <th>diastolic_bp</th>\n",
       "      <th>heart_rate</th>\n",
       "      <th>daily_steps</th>\n",
       "    </tr>\n",
       "  </thead>\n",
       "  <tbody>\n",
       "    <tr>\n",
       "      <th>count</th>\n",
       "      <td>374.000000</td>\n",
       "      <td>374.000000</td>\n",
       "      <td>374.000000</td>\n",
       "      <td>374.000000</td>\n",
       "      <td>374.000000</td>\n",
       "      <td>374.000000</td>\n",
       "      <td>374.000000</td>\n",
       "      <td>374.000000</td>\n",
       "      <td>374.000000</td>\n",
       "      <td>374.000000</td>\n",
       "    </tr>\n",
       "    <tr>\n",
       "      <th>mean</th>\n",
       "      <td>187.500000</td>\n",
       "      <td>42.184492</td>\n",
       "      <td>7.132086</td>\n",
       "      <td>7.312834</td>\n",
       "      <td>59.171123</td>\n",
       "      <td>5.385027</td>\n",
       "      <td>128.553476</td>\n",
       "      <td>84.649733</td>\n",
       "      <td>70.165775</td>\n",
       "      <td>6816.844920</td>\n",
       "    </tr>\n",
       "    <tr>\n",
       "      <th>std</th>\n",
       "      <td>108.108742</td>\n",
       "      <td>8.673133</td>\n",
       "      <td>0.795657</td>\n",
       "      <td>1.196956</td>\n",
       "      <td>20.830804</td>\n",
       "      <td>1.774526</td>\n",
       "      <td>7.748118</td>\n",
       "      <td>6.161611</td>\n",
       "      <td>4.135676</td>\n",
       "      <td>1617.915679</td>\n",
       "    </tr>\n",
       "    <tr>\n",
       "      <th>min</th>\n",
       "      <td>1.000000</td>\n",
       "      <td>27.000000</td>\n",
       "      <td>5.800000</td>\n",
       "      <td>4.000000</td>\n",
       "      <td>30.000000</td>\n",
       "      <td>3.000000</td>\n",
       "      <td>115.000000</td>\n",
       "      <td>75.000000</td>\n",
       "      <td>65.000000</td>\n",
       "      <td>3000.000000</td>\n",
       "    </tr>\n",
       "    <tr>\n",
       "      <th>25%</th>\n",
       "      <td>94.250000</td>\n",
       "      <td>35.250000</td>\n",
       "      <td>6.400000</td>\n",
       "      <td>6.000000</td>\n",
       "      <td>45.000000</td>\n",
       "      <td>4.000000</td>\n",
       "      <td>125.000000</td>\n",
       "      <td>80.000000</td>\n",
       "      <td>68.000000</td>\n",
       "      <td>5600.000000</td>\n",
       "    </tr>\n",
       "    <tr>\n",
       "      <th>50%</th>\n",
       "      <td>187.500000</td>\n",
       "      <td>43.000000</td>\n",
       "      <td>7.200000</td>\n",
       "      <td>7.000000</td>\n",
       "      <td>60.000000</td>\n",
       "      <td>5.000000</td>\n",
       "      <td>130.000000</td>\n",
       "      <td>85.000000</td>\n",
       "      <td>70.000000</td>\n",
       "      <td>7000.000000</td>\n",
       "    </tr>\n",
       "    <tr>\n",
       "      <th>75%</th>\n",
       "      <td>280.750000</td>\n",
       "      <td>50.000000</td>\n",
       "      <td>7.800000</td>\n",
       "      <td>8.000000</td>\n",
       "      <td>75.000000</td>\n",
       "      <td>7.000000</td>\n",
       "      <td>135.000000</td>\n",
       "      <td>90.000000</td>\n",
       "      <td>72.000000</td>\n",
       "      <td>8000.000000</td>\n",
       "    </tr>\n",
       "    <tr>\n",
       "      <th>max</th>\n",
       "      <td>374.000000</td>\n",
       "      <td>59.000000</td>\n",
       "      <td>8.500000</td>\n",
       "      <td>9.000000</td>\n",
       "      <td>90.000000</td>\n",
       "      <td>8.000000</td>\n",
       "      <td>142.000000</td>\n",
       "      <td>95.000000</td>\n",
       "      <td>86.000000</td>\n",
       "      <td>10000.000000</td>\n",
       "    </tr>\n",
       "  </tbody>\n",
       "</table>\n",
       "</div>"
      ],
      "text/plain": [
       "               id         age  sleep_duration  sleep_quality  \\\n",
       "count  374.000000  374.000000      374.000000     374.000000   \n",
       "mean   187.500000   42.184492        7.132086       7.312834   \n",
       "std    108.108742    8.673133        0.795657       1.196956   \n",
       "min      1.000000   27.000000        5.800000       4.000000   \n",
       "25%     94.250000   35.250000        6.400000       6.000000   \n",
       "50%    187.500000   43.000000        7.200000       7.000000   \n",
       "75%    280.750000   50.000000        7.800000       8.000000   \n",
       "max    374.000000   59.000000        8.500000       9.000000   \n",
       "\n",
       "       physical_activity  stress_level  systolic_bp  diastolic_bp  heart_rate  \\\n",
       "count         374.000000    374.000000   374.000000    374.000000  374.000000   \n",
       "mean           59.171123      5.385027   128.553476     84.649733   70.165775   \n",
       "std            20.830804      1.774526     7.748118      6.161611    4.135676   \n",
       "min            30.000000      3.000000   115.000000     75.000000   65.000000   \n",
       "25%            45.000000      4.000000   125.000000     80.000000   68.000000   \n",
       "50%            60.000000      5.000000   130.000000     85.000000   70.000000   \n",
       "75%            75.000000      7.000000   135.000000     90.000000   72.000000   \n",
       "max            90.000000      8.000000   142.000000     95.000000   86.000000   \n",
       "\n",
       "        daily_steps  \n",
       "count    374.000000  \n",
       "mean    6816.844920  \n",
       "std     1617.915679  \n",
       "min     3000.000000  \n",
       "25%     5600.000000  \n",
       "50%     7000.000000  \n",
       "75%     8000.000000  \n",
       "max    10000.000000  "
      ]
     },
     "execution_count": 238,
     "metadata": {},
     "output_type": "execute_result"
    }
   ],
   "source": [
    "df.describe()"
   ]
  },
  {
   "cell_type": "code",
   "execution_count": 66,
   "metadata": {},
   "outputs": [
    {
     "data": {
      "text/plain": [
       "Male      189\n",
       "Female    185\n",
       "Name: gender, dtype: int64"
      ]
     },
     "execution_count": 66,
     "metadata": {},
     "output_type": "execute_result"
    }
   ],
   "source": [
    "df['gender'].value_counts()"
   ]
  },
  {
   "cell_type": "code",
   "execution_count": 243,
   "metadata": {},
   "outputs": [
    {
     "data": {
      "text/plain": [
       "42.18449197860963"
      ]
     },
     "execution_count": 243,
     "metadata": {},
     "output_type": "execute_result"
    }
   ],
   "source": [
    "df['age'].mean()"
   ]
  },
  {
   "cell_type": "code",
   "execution_count": 242,
   "metadata": {},
   "outputs": [
    {
     "data": {
      "text/plain": [
       "Text(0, 0.5, 'Number of Individuals')"
      ]
     },
     "execution_count": 242,
     "metadata": {},
     "output_type": "execute_result"
    },
    {
     "data": {
      "image/png": "[encoded data removed]",
      "text/plain": [
       "<Figure size 1008x360 with 1 Axes>"
      ]
     },
     "metadata": {
      "needs_background": "light"
     },
     "output_type": "display_data"
    }
   ],
   "source": [
    "plt.figure(figsize=(14, 5))\n",
    "sns.histplot(df, x=\"age\", hue=\"gender\", element=\"step\")\n",
    "plt.title(\"Distribution of age by gender\")\n",
    "plt.xlabel('Age')\n",
    "plt.ylabel('Number of Individuals')"
   ]
  },
  {
   "cell_type": "code",
   "execution_count": 67,
   "metadata": {},
   "outputs": [
    {
     "data": {
      "text/plain": [
       "Nurse                   73\n",
       "Doctor                  71\n",
       "Engineer                63\n",
       "Lawyer                  47\n",
       "Teacher                 40\n",
       "Accountant              37\n",
       "Salesperson             32\n",
       "Software Engineer        4\n",
       "Scientist                4\n",
       "Sales Representative     2\n",
       "Manager                  1\n",
       "Name: occupation, dtype: int64"
      ]
     },
     "execution_count": 67,
     "metadata": {},
     "output_type": "execute_result"
    }
   ],
   "source": [
    "df['occupation'].value_counts()"
   ]
  },
  {
   "cell_type": "code",
   "execution_count": 68,
   "metadata": {},
   "outputs": [
    {
     "data": {
      "text/plain": [
       "8    109\n",
       "6    105\n",
       "7     77\n",
       "9     71\n",
       "5      7\n",
       "4      5\n",
       "Name: sleep_quality, dtype: int64"
      ]
     },
     "execution_count": 68,
     "metadata": {},
     "output_type": "execute_result"
    }
   ],
   "source": [
    "df['sleep_quality'].value_counts()"
   ]
  },
  {
   "cell_type": "code",
   "execution_count": 71,
   "metadata": {},
   "outputs": [
    {
     "data": {
      "text/plain": [
       "3    71\n",
       "4    70\n",
       "8    70\n",
       "5    67\n",
       "7    50\n",
       "6    46\n",
       "Name: stress_level, dtype: int64"
      ]
     },
     "execution_count": 71,
     "metadata": {},
     "output_type": "execute_result"
    }
   ],
   "source": [
    "df['stress_level'].value_counts().sort_values(ascending=False)"
   ]
  },
  {
   "cell_type": "code",
   "execution_count": 222,
   "metadata": {},
   "outputs": [
    {
     "data": {
      "text/plain": [
       "Normal        216\n",
       "Overweight    148\n",
       "Obese          10\n",
       "Name: bmi_category, dtype: int64"
      ]
     },
     "execution_count": 222,
     "metadata": {},
     "output_type": "execute_result"
    }
   ],
   "source": [
    "df['bmi_category'].value_counts()"
   ]
  },
  {
   "cell_type": "code",
   "execution_count": 225,
   "metadata": {},
   "outputs": [
    {
     "data": {
      "text/plain": [
       "None           58.556150\n",
       "Sleep Apnea    20.855615\n",
       "Insomnia       20.588235\n",
       "Name: sleep_disorder, dtype: float64"
      ]
     },
     "execution_count": 225,
     "metadata": {},
     "output_type": "execute_result"
    }
   ],
   "source": [
    "df['sleep_disorder'].value_counts()\n",
    "\n",
    "(raw_df['sleep_disorder'].value_counts()/raw_df['sleep_disorder'].value_counts().sum())*100 #calculate percent"
   ]
  },
  {
   "cell_type": "markdown",
   "metadata": {},
   "source": [
    "### 4b. Exploring the relationships between different variables with data visualizations "
   ]
  },
  {
   "cell_type": "markdown",
   "metadata": {},
   "source": [
    "**Sleep duration and sleep quality by gender**\n",
    "\n",
    "Sleep quality increases when sleep duration increases. Overall, females tend to sleep for shorter amounts of time than males."
   ]
  },
  {
   "cell_type": "code",
   "execution_count": 241,
   "metadata": {},
   "outputs": [
    {
     "data": {
      "image/png": "[encoded data removed]",
      "text/plain": [
       "<Figure size 1008x432 with 1 Axes>"
      ]
     },
     "metadata": {
      "needs_background": "light"
     },
     "output_type": "display_data"
    }
   ],
   "source": [
    "#sleep duration and sleep quality\n",
    "plt.figure(figsize=(14, 6))\n",
    "sns.barplot(data=df,\n",
    "            x='sleep_quality',\n",
    "            y='sleep_duration',\n",
    "            hue='gender'\n",
    "           )\n",
    "plt.title(\"Sleep quality and sleep duration by gender\")\n",
    "plt.xlabel('Sleep Quality')\n",
    "plt.ylabel('Sleep Duration')\n",
    "plt.show()"
   ]
  },
  {
   "cell_type": "markdown",
   "metadata": {},
   "source": [
    "**Sleep duration and quality by occupation**\n",
    "\n",
    "Engineers, lawyers, and accountants experience the highest quality and length of sleep compared to other professions, espeically sales representatives, scientists and salespeople. Looking at sleep duraiton adn sleep quality, it seems that sleep quality improves with sleep duration. The greatest difference between sleep quality and duration are when both values are low and among sales representatives. "
   ]
  },
  {
   "cell_type": "code",
   "execution_count": 245,
   "metadata": {},
   "outputs": [
    {
     "data": {
      "image/png": "[encoded data removed]",
      "text/plain": [
       "<Figure size 1008x432 with 1 Axes>"
      ]
     },
     "metadata": {
      "needs_background": "light"
     },
     "output_type": "display_data"
    }
   ],
   "source": [
    "# sleep quality and duration by occupation\n",
    "\n",
    "df_occupation = df.groupby('occupation')[['sleep_quality', 'sleep_duration']].mean().sort_values(by=['sleep_quality'])\n",
    "\n",
    "plt.figure(figsize=(14, 6))\n",
    "ax = plt.subplot(1, 1, 1)\n",
    "x = pd.Series(df_occupation.index,dtype='category')\n",
    "ax.scatter(x,y=df_occupation['sleep_duration'].to_numpy())\n",
    "ax.scatter(x,y=df_occupation['sleep_quality'].to_numpy(),marker='^')\n",
    "plt.xticks(rotation=45)\n",
    "plt.legend(['sleep_duration','sleep_quality'])\n",
    "plt.ylim(0,12)\n",
    "plt.title('Variation of Sleep Quality and Duration with Occupation')\n",
    "plt.xlabel('Occupation')\n",
    "plt.ylabel('Number of Individuals')\n",
    "plt.show()"
   ]
  },
  {
   "cell_type": "markdown",
   "metadata": {},
   "source": [
    "**Physical activity and sleep duration and quality**\n",
    "\n",
    "There is a strong positive association between physical activity and sleep duration. As the number of minutes of exercise per day increases, the hours of sleep slept also increases. The exceptions are for some females at the extremities of physical activity where this relationship is inverse: little exercise correlates with longer sleep and significant amount of exercise correlates with little sleep.\n",
    "\n",
    "The positive association between physical activity and sleep quality is not as strong as that for sleep duration. "
   ]
  },
  {
   "cell_type": "code",
   "execution_count": 234,
   "metadata": {},
   "outputs": [
    {
     "data": {
      "text/plain": [
       "Text(0, 0.5, 'Sleep Duration')"
      ]
     },
     "execution_count": 234,
     "metadata": {},
     "output_type": "execute_result"
    },
    {
     "data": {
      "image/png": "[encoded data removed]",
      "text/plain": [
       "<Figure size 1008x432 with 1 Axes>"
      ]
     },
     "metadata": {
      "needs_background": "light"
     },
     "output_type": "display_data"
    }
   ],
   "source": [
    "# sleep duration and physical activity\n",
    "plt.figure(figsize=(14, 6))\n",
    "sns.scatterplot(x=\"physical_activity\", \n",
    "                y=\"sleep_duration\",\n",
    "                hue=\"gender\",\n",
    "                sizes=(1, 8), \n",
    "                linewidth=0,\n",
    "                data=df)\n",
    "plt.title('Impact of physical activity on sleep duration')\n",
    "plt.xlabel('Physical Activity Level')\n",
    "plt.ylabel('Sleep Duration')"
   ]
  },
  {
   "cell_type": "code",
   "execution_count": 235,
   "metadata": {},
   "outputs": [
    {
     "data": {
      "text/plain": [
       "Text(0, 0.5, 'Sleep Quality')"
      ]
     },
     "execution_count": 235,
     "metadata": {},
     "output_type": "execute_result"
    },
    {
     "data": {
      "image/png": "[encoded data removed]",
      "text/plain": [
       "<Figure size 1008x432 with 1 Axes>"
      ]
     },
     "metadata": {
      "needs_background": "light"
     },
     "output_type": "display_data"
    }
   ],
   "source": [
    "# sleep duration and physical activity\n",
    "plt.figure(figsize=(14, 6))\n",
    "sns.scatterplot(x=\"physical_activity\", \n",
    "                y=\"sleep_quality\",\n",
    "                hue=\"gender\",\n",
    "                sizes=(1, 8), \n",
    "                linewidth=0,\n",
    "                data=df)\n",
    "plt.title('Impact of physical activity on sleep quality')\n",
    "plt.xlabel('Physical Activity Level')\n",
    "plt.ylabel('Sleep Quality')"
   ]
  },
  {
   "cell_type": "markdown",
   "metadata": {},
   "source": [
    "**Stress level and sleep duration**\n",
    "\n",
    "Stress level appears to have a negative relationship with sleep duration. As stress levels increases, the length of sleep per night decreases."
   ]
  },
  {
   "cell_type": "code",
   "execution_count": 236,
   "metadata": {},
   "outputs": [
    {
     "data": {
      "text/plain": [
       "Text(0, 0.5, 'Sleep Duration')"
      ]
     },
     "execution_count": 236,
     "metadata": {},
     "output_type": "execute_result"
    },
    {
     "data": {
      "image/png": "[encoded data removed]",
      "text/plain": [
       "<Figure size 1008x432 with 1 Axes>"
      ]
     },
     "metadata": {
      "needs_background": "light"
     },
     "output_type": "display_data"
    }
   ],
   "source": [
    "# sleep duration and stress level\n",
    "plt.figure(figsize=(14, 6))\n",
    "sns.barplot(x='stress_level', \n",
    "            y='sleep_duration',\n",
    "            hue='gender',\n",
    "           data=df)\n",
    "plt.title('Impact of stress level on sleep duration')\n",
    "plt.xlabel('Stress Level')\n",
    "plt.ylabel('Sleep Duration')"
   ]
  },
  {
   "cell_type": "markdown",
   "metadata": {},
   "source": [
    "**Stress level and sleep quality**\n",
    "\n",
    "Stress level appears to have a negative relationship with sleep quality. As stress levels increases, the quality of sleep per night decreases."
   ]
  },
  {
   "cell_type": "code",
   "execution_count": 237,
   "metadata": {},
   "outputs": [
    {
     "data": {
      "text/plain": [
       "Text(0, 0.5, 'Sleep Quality')"
      ]
     },
     "execution_count": 237,
     "metadata": {},
     "output_type": "execute_result"
    },
    {
     "data": {
      "image/png": "[encoded data removed]",
      "text/plain": [
       "<Figure size 1008x432 with 1 Axes>"
      ]
     },
     "metadata": {
      "needs_background": "light"
     },
     "output_type": "display_data"
    }
   ],
   "source": [
    "# sleep quality and stress level\n",
    "plt.figure(figsize=(14, 6))\n",
    "sns.barplot(x='stress_level', \n",
    "            y='sleep_quality',\n",
    "            hue='gender',\n",
    "           data=df)\n",
    "plt.title('Impact of stress level on sleep quality')\n",
    "plt.xlabel('Stress Level')\n",
    "plt.ylabel('Sleep Quality')"
   ]
  },
  {
   "cell_type": "markdown",
   "metadata": {},
   "source": [
    "**Body mass index (BMI) and sleep quality**\n",
    "\n",
    "Sleep quality decreases as the BMI increases. On average, sleep quality was lowest for the obese category, in the middle for the overweight category and highest for the normal BMI category. "
   ]
  },
  {
   "cell_type": "code",
   "execution_count": 248,
   "metadata": {},
   "outputs": [
    {
     "data": {
      "text/plain": [
       "Text(0, 0.5, 'Sleep Quality')"
      ]
     },
     "execution_count": 248,
     "metadata": {},
     "output_type": "execute_result"
    },
    {
     "data": {
      "image/png": "[encoded data removed]",
      "text/plain": [
       "<Figure size 1008x432 with 1 Axes>"
      ]
     },
     "metadata": {
      "needs_background": "light"
     },
     "output_type": "display_data"
    }
   ],
   "source": [
    "# sleep quality and bmi\n",
    "plt.figure(figsize=(14, 6))\n",
    "sns.boxplot(x='bmi_category', \n",
    "            y='sleep_quality',\n",
    "            order=['Normal', 'Overweight', 'Obese'],\n",
    "            data=df)\n",
    "plt.title('Sleep Quality by BMI')\n",
    "plt.xlabel('BMI Category')\n",
    "plt.ylabel('Sleep Quality')"
   ]
  },
  {
   "cell_type": "markdown",
   "metadata": {},
   "source": [
    "**Sleep disorder and sleep quality and duration**\n",
    "Sleep quality and duration are both lowest for individuals with insomnia. Sleep quality and duration for individuals with sleep apnea are lower than those without any sleep disorders and higher than those with insomnia. "
   ]
  },
  {
   "cell_type": "code",
   "execution_count": 249,
   "metadata": {},
   "outputs": [
    {
     "data": {
      "text/plain": [
       "Text(0, 0.5, 'Sleep Quality')"
      ]
     },
     "execution_count": 249,
     "metadata": {},
     "output_type": "execute_result"
    },
    {
     "data": {
      "image/png": "[encoded data removed]",
      "text/plain": [
       "<Figure size 720x432 with 1 Axes>"
      ]
     },
     "metadata": {
      "needs_background": "light"
     },
     "output_type": "display_data"
    }
   ],
   "source": [
    "plt.figure(figsize=(10, 6))\n",
    "sns.barplot(x='sleep_disorder',\n",
    "            y='sleep_quality',\n",
    "            data=df)\n",
    "plt.title('Sleep Quality by Sleep Disorder')\n",
    "plt.xlabel('Sleep Disorder')\n",
    "plt.ylabel('Sleep Quality')"
   ]
  },
  {
   "cell_type": "code",
   "execution_count": 212,
   "metadata": {},
   "outputs": [
    {
     "data": {
      "text/plain": [
       "Text(0, 0.5, 'Sleep Duration')"
      ]
     },
     "execution_count": 212,
     "metadata": {},
     "output_type": "execute_result"
    },
    {
     "data": {
      "image/png": "[encoded data removed]",
      "text/plain": [
       "<Figure size 1008x432 with 1 Axes>"
      ]
     },
     "metadata": {
      "needs_background": "light"
     },
     "output_type": "display_data"
    }
   ],
   "source": [
    "plt.figure(figsize=(14, 6))\n",
    "sns.barplot(x='sleep_disorder',\n",
    "            y='sleep_duration',\n",
    "            data=df)\n",
    "plt.title('Sleep Duration by Sleep Disorder')\n",
    "plt.xlabel('Sleep Disorder')\n",
    "plt.ylabel('Sleep Duration')"
   ]
  },
  {
   "cell_type": "markdown",
   "metadata": {},
   "source": [
    "## 4c. Statistical analysis\n",
    "A correlation matrix is used to show how strong and in what direction two or more variables are related. From the matrix and the heatmap, the variables with the strongest positive correlation are between sleep duration and sleep quality. The variables with the strongest negative correlation are between stress level and sleep quality as well as stress level and sleep duration. "
   ]
  },
  {
   "cell_type": "code",
   "execution_count": 179,
   "metadata": {},
   "outputs": [
    {
     "data": {
      "text/html": [
       "<div>\n",
       "<style scoped>\n",
       "    .dataframe tbody tr th:only-of-type {\n",
       "        vertical-align: middle;\n",
       "    }\n",
       "\n",
       "    .dataframe tbody tr th {\n",
       "        vertical-align: top;\n",
       "    }\n",
       "\n",
       "    .dataframe thead th {\n",
       "        text-align: right;\n",
       "    }\n",
       "</style>\n",
       "<table border=\"1\" class=\"dataframe\">\n",
       "  <thead>\n",
       "    <tr style=\"text-align: right;\">\n",
       "      <th></th>\n",
       "      <th>id</th>\n",
       "      <th>age</th>\n",
       "      <th>sleep_duration</th>\n",
       "      <th>sleep_quality</th>\n",
       "      <th>physical_activity</th>\n",
       "      <th>stress_level</th>\n",
       "      <th>systolic_bp</th>\n",
       "      <th>diastolic_bp</th>\n",
       "      <th>heart_rate</th>\n",
       "      <th>daily_steps</th>\n",
       "    </tr>\n",
       "  </thead>\n",
       "  <tbody>\n",
       "    <tr>\n",
       "      <th>id</th>\n",
       "      <td>1.000000</td>\n",
       "      <td>0.990516</td>\n",
       "      <td>0.296305</td>\n",
       "      <td>0.431612</td>\n",
       "      <td>0.149882</td>\n",
       "      <td>-0.394287</td>\n",
       "      <td>0.611551</td>\n",
       "      <td>0.590670</td>\n",
       "      <td>-0.225467</td>\n",
       "      <td>0.043844</td>\n",
       "    </tr>\n",
       "    <tr>\n",
       "      <th>age</th>\n",
       "      <td>0.990516</td>\n",
       "      <td>1.000000</td>\n",
       "      <td>0.344709</td>\n",
       "      <td>0.473734</td>\n",
       "      <td>0.178993</td>\n",
       "      <td>-0.422344</td>\n",
       "      <td>0.605878</td>\n",
       "      <td>0.593839</td>\n",
       "      <td>-0.225606</td>\n",
       "      <td>0.057973</td>\n",
       "    </tr>\n",
       "    <tr>\n",
       "      <th>sleep_duration</th>\n",
       "      <td>0.296305</td>\n",
       "      <td>0.344709</td>\n",
       "      <td>1.000000</td>\n",
       "      <td>0.883213</td>\n",
       "      <td>0.212360</td>\n",
       "      <td>-0.811023</td>\n",
       "      <td>-0.180406</td>\n",
       "      <td>-0.166570</td>\n",
       "      <td>-0.516455</td>\n",
       "      <td>-0.039533</td>\n",
       "    </tr>\n",
       "    <tr>\n",
       "      <th>sleep_quality</th>\n",
       "      <td>0.431612</td>\n",
       "      <td>0.473734</td>\n",
       "      <td>0.883213</td>\n",
       "      <td>1.000000</td>\n",
       "      <td>0.192896</td>\n",
       "      <td>-0.898752</td>\n",
       "      <td>-0.121632</td>\n",
       "      <td>-0.110151</td>\n",
       "      <td>-0.659865</td>\n",
       "      <td>0.016791</td>\n",
       "    </tr>\n",
       "    <tr>\n",
       "      <th>physical_activity</th>\n",
       "      <td>0.149882</td>\n",
       "      <td>0.178993</td>\n",
       "      <td>0.212360</td>\n",
       "      <td>0.192896</td>\n",
       "      <td>1.000000</td>\n",
       "      <td>-0.034134</td>\n",
       "      <td>0.265416</td>\n",
       "      <td>0.382651</td>\n",
       "      <td>0.136971</td>\n",
       "      <td>0.772723</td>\n",
       "    </tr>\n",
       "    <tr>\n",
       "      <th>stress_level</th>\n",
       "      <td>-0.394287</td>\n",
       "      <td>-0.422344</td>\n",
       "      <td>-0.811023</td>\n",
       "      <td>-0.898752</td>\n",
       "      <td>-0.034134</td>\n",
       "      <td>1.000000</td>\n",
       "      <td>0.102818</td>\n",
       "      <td>0.091811</td>\n",
       "      <td>0.670026</td>\n",
       "      <td>0.186829</td>\n",
       "    </tr>\n",
       "    <tr>\n",
       "      <th>systolic_bp</th>\n",
       "      <td>0.611551</td>\n",
       "      <td>0.605878</td>\n",
       "      <td>-0.180406</td>\n",
       "      <td>-0.121632</td>\n",
       "      <td>0.265416</td>\n",
       "      <td>0.102818</td>\n",
       "      <td>1.000000</td>\n",
       "      <td>0.972885</td>\n",
       "      <td>0.294143</td>\n",
       "      <td>0.103342</td>\n",
       "    </tr>\n",
       "    <tr>\n",
       "      <th>diastolic_bp</th>\n",
       "      <td>0.590670</td>\n",
       "      <td>0.593839</td>\n",
       "      <td>-0.166570</td>\n",
       "      <td>-0.110151</td>\n",
       "      <td>0.382651</td>\n",
       "      <td>0.091811</td>\n",
       "      <td>0.972885</td>\n",
       "      <td>1.000000</td>\n",
       "      <td>0.271092</td>\n",
       "      <td>0.241986</td>\n",
       "    </tr>\n",
       "    <tr>\n",
       "      <th>heart_rate</th>\n",
       "      <td>-0.225467</td>\n",
       "      <td>-0.225606</td>\n",
       "      <td>-0.516455</td>\n",
       "      <td>-0.659865</td>\n",
       "      <td>0.136971</td>\n",
       "      <td>0.670026</td>\n",
       "      <td>0.294143</td>\n",
       "      <td>0.271092</td>\n",
       "      <td>1.000000</td>\n",
       "      <td>-0.030309</td>\n",
       "    </tr>\n",
       "    <tr>\n",
       "      <th>daily_steps</th>\n",
       "      <td>0.043844</td>\n",
       "      <td>0.057973</td>\n",
       "      <td>-0.039533</td>\n",
       "      <td>0.016791</td>\n",
       "      <td>0.772723</td>\n",
       "      <td>0.186829</td>\n",
       "      <td>0.103342</td>\n",
       "      <td>0.241986</td>\n",
       "      <td>-0.030309</td>\n",
       "      <td>1.000000</td>\n",
       "    </tr>\n",
       "  </tbody>\n",
       "</table>\n",
       "</div>"
      ],
      "text/plain": [
       "                         id       age  sleep_duration  sleep_quality  \\\n",
       "id                 1.000000  0.990516        0.296305       0.431612   \n",
       "age                0.990516  1.000000        0.344709       0.473734   \n",
       "sleep_duration     0.296305  0.344709        1.000000       0.883213   \n",
       "sleep_quality      0.431612  0.473734        0.883213       1.000000   \n",
       "physical_activity  0.149882  0.178993        0.212360       0.192896   \n",
       "stress_level      -0.394287 -0.422344       -0.811023      -0.898752   \n",
       "systolic_bp        0.611551  0.605878       -0.180406      -0.121632   \n",
       "diastolic_bp       0.590670  0.593839       -0.166570      -0.110151   \n",
       "heart_rate        -0.225467 -0.225606       -0.516455      -0.659865   \n",
       "daily_steps        0.043844  0.057973       -0.039533       0.016791   \n",
       "\n",
       "                   physical_activity  stress_level  systolic_bp  diastolic_bp  \\\n",
       "id                          0.149882     -0.394287     0.611551      0.590670   \n",
       "age                         0.178993     -0.422344     0.605878      0.593839   \n",
       "sleep_duration              0.212360     -0.811023    -0.180406     -0.166570   \n",
       "sleep_quality               0.192896     -0.898752    -0.121632     -0.110151   \n",
       "physical_activity           1.000000     -0.034134     0.265416      0.382651   \n",
       "stress_level               -0.034134      1.000000     0.102818      0.091811   \n",
       "systolic_bp                 0.265416      0.102818     1.000000      0.972885   \n",
       "diastolic_bp                0.382651      0.091811     0.972885      1.000000   \n",
       "heart_rate                  0.136971      0.670026     0.294143      0.271092   \n",
       "daily_steps                 0.772723      0.186829     0.103342      0.241986   \n",
       "\n",
       "                   heart_rate  daily_steps  \n",
       "id                  -0.225467     0.043844  \n",
       "age                 -0.225606     0.057973  \n",
       "sleep_duration      -0.516455    -0.039533  \n",
       "sleep_quality       -0.659865     0.016791  \n",
       "physical_activity    0.136971     0.772723  \n",
       "stress_level         0.670026     0.186829  \n",
       "systolic_bp          0.294143     0.103342  \n",
       "diastolic_bp         0.271092     0.241986  \n",
       "heart_rate           1.000000    -0.030309  \n",
       "daily_steps         -0.030309     1.000000  "
      ]
     },
     "execution_count": 179,
     "metadata": {},
     "output_type": "execute_result"
    }
   ],
   "source": [
    "# correlation matrix\n",
    "df.corr()"
   ]
  },
  {
   "cell_type": "code",
   "execution_count": 217,
   "metadata": {},
   "outputs": [
    {
     "data": {
      "text/plain": [
       "Text(0.5, 1.0, 'Correlation between sleep health and lifestyle factors')"
      ]
     },
     "execution_count": 217,
     "metadata": {},
     "output_type": "execute_result"
    },
    {
     "data": {
      "image/png": "[encoded data removed]",
      "text/plain": [
       "<Figure size 1080x576 with 2 Axes>"
      ]
     },
     "metadata": {
      "needs_background": "light"
     },
     "output_type": "display_data"
    }
   ],
   "source": [
    "#heat map to visualize correlation\n",
    "corr = df.corr()\n",
    "matrix = np.triu(corr) #create upper triangle of correlation matrix\n",
    "sns.heatmap(corr, annot=True, mask=matrix) #use upper triangle matrix as mask \n",
    "plt.figure(figsize=(15,8))\n",
    "plt.xticks(rotation = 45)\n",
    "plt.title('Correlation between sleep health and lifestyle factors')"
   ]
  },
  {
   "attachments": {},
   "cell_type": "markdown",
   "metadata": {},
   "source": [
    "## 5. Conclusion \n",
    "\n",
    "From this analysis, we found the following: \n",
    "\n",
    "- Females sleep for shorter lengths of time than males.\n",
    "- Sleep quality and sleep duration are correlated. Sleep quality improves with sleep duration. \n",
    "- Engineers, lawyers, accountants experience the highest quality and duration of sleep. Sales representatives and scientists experience the lowest quality and duration of sleep. \n",
    "- Increased physical activity is associated with longer sleep duration but not necessarily quality of sleep. \n",
    "- Stress level is the most significant factor for sleep health. High stress levels are associated with the lowest sleep quality and duration. \n",
    "- BMI is correlated with sleep quality. Obese individuals experience the lowest average quality of sleep, followed by those who are overweight. \n",
    "- Individuals with insomniacs experience the worst sleep quality and sleep duration compared to either those with sleep apnea or with no sleep disorders. \n",
    "\n",
    "The dataset and analysis have several limitations, including small sample size, incomplete data not representing all age ranges, sleep quality categories, or bmi, and lack of definition of the stress level variable. Given these limitations, further analysis must be performed with a larger, more comprehensive dataset to draw definitive conclusions. \n",
    "\n",
    "Future exploration can explore the relationship between sleep health with other factors such as other chronic conditions, emotional wellbeing, social engagement, self-esteem, access to care, neighborhood environment, productivity levels, screen time, driving and occupational safety, and racial discrimination. "
   ]
  }
 ],
 "metadata": {
  "kernelspec": {
   "display_name": "Python 3",
   "language": "python",
   "name": "python3"
  },
  "language_info": {
   "codemirror_mode": {
    "name": "ipython",
    "version": 3
   },
   "file_extension": ".py",
   "mimetype": "text/x-python",
   "name": "python",
   "nbconvert_exporter": "python",
   "pygments_lexer": "ipython3",
   "version": "3.8.5"
  }
 },
 "nbformat": 4,
 "nbformat_minor": 4
}
